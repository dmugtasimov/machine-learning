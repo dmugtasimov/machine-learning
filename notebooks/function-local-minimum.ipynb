{
 "cells": [
  {
   "cell_type": "code",
   "execution_count": null,
   "id": "e9fbe421-391a-48a5-90ce-eeac2c18bb14",
   "metadata": {
    "tags": []
   },
   "outputs": [],
   "source": [
    "# If you are not using `poetry` to install from `pyproject.toml` and `poetry.lock` then run these commands before using this notebook:\n",
    "# pip install matplotlib\n",
    "# pip install prettytable\n",
    "\n",
    "from matplotlib import pyplot"
   ]
  },
  {
   "cell_type": "code",
   "execution_count": null,
   "id": "aff3573a-7c2c-459f-bc97-fb7ba15931e8",
   "metadata": {
    "tags": []
   },
   "outputs": [],
   "source": [
    "def f(x):\n",
    "    return x ** 2 - 6 * x + 10\n",
    "\n",
    "def f_prime(x):  # derivative of function f(x)\n",
    "    return 2 * x - 6"
   ]
  },
  {
   "cell_type": "code",
   "execution_count": null,
   "id": "ca24e0fc-c493-4abe-8c2b-b9a3d3694c40",
   "metadata": {
    "tags": []
   },
   "outputs": [],
   "source": [
    "x = list(map(lambda _: _ * 0.25, range(-7, 32, 1)))\n",
    "y = [f(_) for _ in x]\n",
    "pyplot.plot(x, y)\n",
    "pyplot.show()"
   ]
  },
  {
   "cell_type": "code",
   "execution_count": null,
   "id": "203df92d-5a41-40ca-b3e1-c346445eb119",
   "metadata": {
    "tags": []
   },
   "outputs": [],
   "source": [
    "def derivative_descent(f, f_prime, a=0, learning_rate=0.1, max_error=0.0001, max_iterations=20, x_learning=None):\n",
    "    x_learning = [] if x_learning is None else x_learning\n",
    "\n",
    "    for _ in range(max_iterations):\n",
    "        x_learning.append(a)\n",
    "        f_prime_a = f_prime(a)\n",
    "        if abs(f_prime_a) <= max_error:  # error = abs(f_prime(a))\n",
    "            break\n",
    "        \n",
    "        a -= learning_rate * f_prime_a  # a(i+1) = a(i) - learning_rate * f_prime(a(i))\n",
    "        \n",
    "    return a"
   ]
  },
  {
   "cell_type": "code",
   "execution_count": null,
   "id": "b02018d6-5d30-4317-ab9c-049eb3364db2",
   "metadata": {
    "tags": []
   },
   "outputs": [],
   "source": [
    "from prettytable import PrettyTable\n",
    "from decimal import Decimal\n",
    "\n",
    "\n",
    "def quantize(float_list, q='.0000000000001'):\n",
    "    return [Decimal(_).quantize(Decimal(q)) for _ in float_list]\n",
    "\n",
    "\n",
    "def draw_graph(a, learning_rate=0.3):\n",
    "    x_learning = []\n",
    "    a = derivative_descent(f, f_prime, a=a, learning_rate=learning_rate, x_learning=x_learning)\n",
    "    print('Function local minimum is at point a =', a)\n",
    "\n",
    "    y_learning = [f(_) for _ in x_learning]\n",
    "    slopes = [f_prime(_) for _ in x_learning]\n",
    "    errors = [abs(f_prime(_)) for _ in x_learning]\n",
    "    \n",
    "    table = PrettyTable()\n",
    "    table.add_column('iteration', list(range(len(x_learning))))\n",
    "    table.add_column('a', quantize(x_learning))\n",
    "    table.add_column('f_prime = slope', quantize(slopes))\n",
    "    table.add_column('y', quantize(y_learning))\n",
    "    table.add_column('error', quantize(errors))\n",
    "    table.align = 'r'\n",
    "    print(table)\n",
    "    \n",
    "    pyplot.plot(x, y)\n",
    "    pyplot.scatter(x_learning, y_learning, c='green')\n",
    "    pyplot.bar(x_learning, errors, width=0.1, color='red')\n",
    "    return pyplot.show()"
   ]
  },
  {
   "cell_type": "code",
   "execution_count": null,
   "id": "4225dcf8-d141-49e2-9983-15922893401f",
   "metadata": {
    "tags": []
   },
   "outputs": [],
   "source": [
    "draw_graph(0)"
   ]
  },
  {
   "cell_type": "code",
   "execution_count": null,
   "id": "80df9fb2-8eae-4b3f-a1e1-18c598e2a911",
   "metadata": {
    "tags": []
   },
   "outputs": [],
   "source": [
    "draw_graph(7)"
   ]
  },
  {
   "cell_type": "code",
   "execution_count": null,
   "id": "d4dcf693-5d0e-4297-931f-a60ad94193dd",
   "metadata": {},
   "outputs": [],
   "source": []
  }
 ],
 "metadata": {
  "kernelspec": {
   "display_name": "Python 3 (ipykernel)",
   "language": "python",
   "name": "python3"
  },
  "language_info": {
   "codemirror_mode": {
    "name": "ipython",
    "version": 3
   },
   "file_extension": ".py",
   "mimetype": "text/x-python",
   "name": "python",
   "nbconvert_exporter": "python",
   "pygments_lexer": "ipython3",
   "version": "3.11.2"
  }
 },
 "nbformat": 4,
 "nbformat_minor": 5
}
